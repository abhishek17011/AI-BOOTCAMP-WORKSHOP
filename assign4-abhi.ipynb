{
 "cells": [
  {
   "cell_type": "code",
   "execution_count": 1,
   "metadata": {},
   "outputs": [],
   "source": [
    "import cv2\n",
    "\n",
    "image = cv2.imread('generative-ai.webp')  \n",
    "\n",
    "if image is None:\n",
    "    print(\"Error: Unable to load image.\")\n",
    "else:\n",
    "  \n",
    "    cv2.imshow('Image', image)\n",
    "\n",
    "   \n",
    "    cv2.waitKey(0)\n",
    "\n",
    "\n",
    "    cv2.destroyAllWindows()"
   ]
  },
  {
   "cell_type": "code",
   "execution_count": 2,
   "metadata": {},
   "outputs": [
    {
     "name": "stdout",
     "output_type": "stream",
     "text": [
      "Image dimensions: 1000x564\n",
      "Number of channels: 3\n"
     ]
    }
   ],
   "source": [
    "import cv2\n",
    "\n",
    "image = cv2.imread('generative-ai.webp')  \n",
    "\n",
    "if image is None:\n",
    "    print(\"Error: Unable to load image.\")\n",
    "else:\n",
    "\n",
    "    height, width, channels = image.shape\n",
    "\n",
    "    print(f\"Image dimensions: {width}x{height}\")\n",
    "    print(f\"Number of channels: {channels}\")\n"
   ]
  },
  {
   "cell_type": "code",
   "execution_count": null,
   "metadata": {},
   "outputs": [],
   "source": [
    "import cv2\n",
    "\n",
    "image = cv2.imread('generative-ai.webp')  \n",
    "\n",
    "if image is None:\n",
    "    print(\"Error: Unable to load image.\")\n",
    "else:\n",
    "    \n",
    "    resized_image = cv2.resize(image, (400, 256))\n",
    "\n",
    "    \n",
    "    cv2.imshow('Resized Image', resized_image)\n",
    "\n",
    "    cv2.waitKey(0)\n",
    "\n",
    "    cv2.destroyAllWindows()\n"
   ]
  },
  {
   "cell_type": "code",
   "execution_count": null,
   "metadata": {},
   "outputs": [],
   "source": [
    "import cv2\n",
    "\n",
    "image = cv2.imread('generative-ai.webp') \n",
    "\n",
    "if image is None:\n",
    "    print(\"Error: Unable to load image.\")\n",
    "else:\n",
    "    \n",
    "    resized_image = cv2.resize(image, (600, 356))\n",
    "\n",
    "    \n",
    "    cv2.imshow('Resized Image', resized_image)\n",
    "\n",
    "    cv2.waitKey(0)\n",
    "\n",
    "    cv2.destroyAllWindows()"
   ]
  },
  {
   "cell_type": "code",
   "execution_count": 3,
   "metadata": {},
   "outputs": [],
   "source": [
    "import cv2\n",
    "\n",
    "image = cv2.imread('generative-ai.webp')  \n",
    "\n",
    "if image is None:\n",
    "    print(\"Error: Unable to load image.\")\n",
    "else:\n",
    "    \n",
    "    flipped_horizontal = cv2.flip(image, 1)\n",
    "\n",
    "    flipped_vertical = cv2.flip(image, 0)\n",
    "\n",
    "   \n",
    "    flipped_both = cv2.flip(image, -1)\n",
    "\n",
    "    \n",
    "    cv2.imshow('Original Image', image)\n",
    "    cv2.imshow('Flipped Horizontally', flipped_horizontal)\n",
    "    cv2.imshow('Flipped Vertically', flipped_vertical)\n",
    "    cv2.imshow('Flipped Horizontally and Vertically', flipped_both)\n",
    "\n",
    "    cv2.waitKey(0)\n",
    "\n",
    "    cv2.destroyAllWindows()\n"
   ]
  },
  {
   "cell_type": "code",
   "execution_count": null,
   "metadata": {},
   "outputs": [],
   "source": []
  }
 ],
 "metadata": {
  "kernelspec": {
   "display_name": "Python 3",
   "language": "python",
   "name": "python3"
  },
  "language_info": {
   "codemirror_mode": {
    "name": "ipython",
    "version": 3
   },
   "file_extension": ".py",
   "mimetype": "text/x-python",
   "name": "python",
   "nbconvert_exporter": "python",
   "pygments_lexer": "ipython3",
   "version": "3.12.4"
  }
 },
 "nbformat": 4,
 "nbformat_minor": 2
}
