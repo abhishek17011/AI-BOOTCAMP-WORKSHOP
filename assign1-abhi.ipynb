{
 "cells": [
  {
   "cell_type": "code",
   "execution_count": 1,
   "metadata": {},
   "outputs": [
    {
     "name": "stdout",
     "output_type": "stream",
     "text": [
      "Random List: [23, 56, 43, 62, 61, 24, 41, 22, 38, 76]\n",
      "Even Numbers: [56, 62, 24, 22, 38, 76]\n"
     ]
    }
   ],
   "source": [
    "import random\n",
    "\n",
    "# Generate a random list of 10 numbers between 1 and 100\n",
    "random_list = [random.randint(1, 100) for _ in range(10)]\n",
    "\n",
    "# Print the random list\n",
    "print(\"Random List:\", random_list)\n",
    "\n",
    "# Filter and print the even numbers from the list\n",
    "even_numbers = [num for num in random_list if num % 2 == 0]\n",
    "print(\"Even Numbers:\", even_numbers)\n"
   ]
  },
  {
   "cell_type": "code",
   "execution_count": 2,
   "metadata": {},
   "outputs": [
    {
     "name": "stdout",
     "output_type": "stream",
     "text": [
      "Reversed String: !nohtyP ot emoclew ,dlrow olleH\n",
      "Reversed Words: olleH ,dlrow emoclew ot !nohtyP\n"
     ]
    }
   ],
   "source": [
    "# Create a string\n",
    "original_string = \"Hello world, welcome to Python!\"\n",
    "\n",
    "# Print the string in reverse order (whole string)\n",
    "reversed_string = original_string[::-1]\n",
    "print(\"Reversed String:\", reversed_string)\n",
    "\n",
    "# Reverse the individual words only\n",
    "words = original_string.split()\n",
    "reversed_words = ' '.join(word[::-1] for word in words)\n",
    "print(\"Reversed Words:\", reversed_words)\n"
   ]
  },
  {
   "cell_type": "code",
   "execution_count": null,
   "metadata": {},
   "outputs": [],
   "source": []
  }
 ],
 "metadata": {
  "kernelspec": {
   "display_name": "Python 3",
   "language": "python",
   "name": "python3"
  },
  "language_info": {
   "codemirror_mode": {
    "name": "ipython",
    "version": 3
   },
   "file_extension": ".py",
   "mimetype": "text/x-python",
   "name": "python",
   "nbconvert_exporter": "python",
   "pygments_lexer": "ipython3",
   "version": "3.12.4"
  }
 },
 "nbformat": 4,
 "nbformat_minor": 2
}
